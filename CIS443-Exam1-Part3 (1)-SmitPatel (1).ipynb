{
 "cells": [
  {
   "cell_type": "markdown",
   "metadata": {},
   "source": [
    "# CIS 443 Exam 1, Part 3 Notebook\n",
    "## 15 pts.\n",
    "## Directions\n",
    "1. Add your Grading ID below.\n",
    "1. Answer the question in the cell provided.\n",
    "1. When finished, save your work, close the Jupyter Lab file, and Shut Down Jupyter Lab. You will upload this Jupyter Notebook file as your submission for Exam 1, Part 3 in Blackboard.\n",
    "1. Be sure to keep an unaltered version of this file just in case anything goes wrong in Blackboard.\n",
    "\n",
    "__Grading ID__: P4427 (double click the cell in Jupyter to edit)"
   ]
  },
  {
   "cell_type": "markdown",
   "metadata": {},
   "source": [
    "Write a Python code fragment in the code cell below that defines a function named `play_guess_number` that plays “guess the number” game. The function will choose the number to be guessed by selecting a random integer in the range 1 to 1000. Do not reveal this number to the user. Display the prompt \"Guess my number between 1 and 1000 with the fewest guesses:\". The player inputs a first guess. If the guess is incorrect, display \"Too high. Try again.\" or \"Too low. Try again.\" as appropriate to help the player “zero in” on the correct answer, then prompt the user for the next guess. When the user enters the correct answer, display \"Congratulations. You guessed the number!\" Test your game function by putting it in a while loop that will prompt the user to \"Play again (y/n)?\" Continue playing guess the number games as long as the user enters \"y\" or \"Y\" in response. (15 pts.)\n",
    "\n",
    "__Extra Credit__<br />\n",
    "Modify the function to count the number of guesses the player makes. If the number is 10 or fewer, display \"Either you know the secret or you got lucky!\" If the player makes more than 10 guesses, display \"You should be able to do better!\" (5 pts. Extra Credit)"
   ]
  },
  {
   "cell_type": "code",
   "execution_count": null,
   "metadata": {},
   "outputs": [
    {
     "name": "stdout",
     "output_type": "stream",
     "text": [
      "Welcome to the Number guessing game!\n",
      "\n"
     ]
    }
   ],
   "source": [
    "import random\n",
    "play = \"y\"\n",
    "\n",
    "\n",
    "def play_guess_number():\n",
    "    \n",
    "    \n",
    "    global guess\n",
    "    global count\n",
    "    guess = \" \"\n",
    "    count = 0\n",
    "    \n",
    "    number = random.randint(1, 1000)\n",
    "    \n",
    "    while number != guess:\n",
    "        guess = int(input(\"\\nGuess my number between 1 and 1000 with the fewest guesses.\")) # taking input from user\n",
    "        \n",
    "        count = count + 1\n",
    "        \n",
    "        # Condition testing\n",
    "        if number == guess:\n",
    "            print(\"Congratulations, You guessed the number!\")\n",
    "            break\n",
    "        elif number > guess:\n",
    "            print(\"Too Low\")\n",
    "        elif number < guess:\n",
    "            print(\"Too High\")\n",
    "            \n",
    "    # Checking how many tries it took\n",
    "    if count > 10:\n",
    "        print(\"\\nYou should be able to do better!\")\n",
    "    if count <= 10:\n",
    "        print(\"\\nEither you know the secret or you got lucky!\")\n",
    "\n",
    "print(\"Welcome to the Number guessing game!\\n\")\n",
    "print(play_guess_number())\n",
    "\n",
    "# asking if user wants to play again\n",
    "while play == 'y' or play == 'Y':\n",
    "     \n",
    "    play = input(\"Play again (y/n): \")\n",
    "    \n",
    "    if play == 'n' or play == 'N':\n",
    "        break\n",
    "    print(play_guess_number())\n"
   ]
  },
  {
   "cell_type": "code",
   "execution_count": null,
   "metadata": {},
   "outputs": [],
   "source": []
  }
 ],
 "metadata": {
  "kernelspec": {
   "display_name": "Python 3",
   "language": "python",
   "name": "python3"
  },
  "language_info": {
   "codemirror_mode": {
    "name": "ipython",
    "version": 3
   },
   "file_extension": ".py",
   "mimetype": "text/x-python",
   "name": "python",
   "nbconvert_exporter": "python",
   "pygments_lexer": "ipython3",
   "version": "3.8.5"
  }
 },
 "nbformat": 4,
 "nbformat_minor": 4
}
